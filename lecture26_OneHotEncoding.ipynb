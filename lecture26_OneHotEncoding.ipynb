{
  "nbformat": 4,
  "nbformat_minor": 0,
  "metadata": {
    "colab": {
      "provenance": []
    },
    "kernelspec": {
      "name": "python3",
      "display_name": "Python 3"
    },
    "language_info": {
      "name": "python"
    }
  },
  "cells": [
    {
      "cell_type": "code",
      "execution_count": 10,
      "metadata": {
        "id": "bv9nr96pG4Rr"
      },
      "outputs": [],
      "source": [
        "import pandas as pd\n",
        "from sklearn.preprocessing import OneHotEncoder"
      ]
    },
    {
      "cell_type": "code",
      "source": [
        "colors = [\"Red\", \"Blue\", \"Green\", \"Yellow\"] * 3\n",
        "df = pd.DataFrame({\"Color\": colors})\n",
        "print(\"Original DataFrame:\\n\", df, \"\\n\")"
      ],
      "metadata": {
        "colab": {
          "base_uri": "https://localhost:8080/"
        },
        "id": "E7g3eUnWHKHB",
        "outputId": "9237a8ab-fc67-4ec4-9734-5ab5a6e2939b"
      },
      "execution_count": 11,
      "outputs": [
        {
          "output_type": "stream",
          "name": "stdout",
          "text": [
            "Original DataFrame:\n",
            "      Color\n",
            "0      Red\n",
            "1     Blue\n",
            "2    Green\n",
            "3   Yellow\n",
            "4      Red\n",
            "5     Blue\n",
            "6    Green\n",
            "7   Yellow\n",
            "8      Red\n",
            "9     Blue\n",
            "10   Green\n",
            "11  Yellow \n",
            "\n"
          ]
        }
      ]
    },
    {
      "cell_type": "code",
      "source": [
        "df.shape"
      ],
      "metadata": {
        "colab": {
          "base_uri": "https://localhost:8080/"
        },
        "id": "XWdz7bJAJudg",
        "outputId": "05ba891e-c7fd-4c26-d08b-67176ee93c8b"
      },
      "execution_count": 15,
      "outputs": [
        {
          "output_type": "execute_result",
          "data": {
            "text/plain": [
              "(12, 1)"
            ]
          },
          "metadata": {},
          "execution_count": 15
        }
      ]
    },
    {
      "cell_type": "markdown",
      "source": [
        "**OneHot encoding using pandas library**"
      ],
      "metadata": {
        "id": "Bb7J5dstHabI"
      }
    },
    {
      "cell_type": "code",
      "source": [
        "df_dummies = pd.get_dummies(df, columns=[\"Color\"], prefix=\"Color\")\n",
        "print(\"One-hot encoding using Pandas get_dummies:\\n\", df_dummies, \"\\n\")"
      ],
      "metadata": {
        "colab": {
          "base_uri": "https://localhost:8080/"
        },
        "id": "zSQmrNL-HR2I",
        "outputId": "1c6acd62-1eb5-442f-9bb1-42aca0467476"
      },
      "execution_count": 12,
      "outputs": [
        {
          "output_type": "stream",
          "name": "stdout",
          "text": [
            "One-hot encoding using Pandas get_dummies:\n",
            "     Color_Blue  Color_Green  Color_Red  Color_Yellow\n",
            "0        False        False       True         False\n",
            "1         True        False      False         False\n",
            "2        False         True      False         False\n",
            "3        False        False      False          True\n",
            "4        False        False       True         False\n",
            "5         True        False      False         False\n",
            "6        False         True      False         False\n",
            "7        False        False      False          True\n",
            "8        False        False       True         False\n",
            "9         True        False      False         False\n",
            "10       False         True      False         False\n",
            "11       False        False      False          True \n",
            "\n"
          ]
        }
      ]
    },
    {
      "cell_type": "code",
      "source": [
        "df_dummies.shape"
      ],
      "metadata": {
        "colab": {
          "base_uri": "https://localhost:8080/"
        },
        "id": "grOVYYNHJnpo",
        "outputId": "90432a70-fd2e-4436-b759-14d8018afd37"
      },
      "execution_count": 16,
      "outputs": [
        {
          "output_type": "execute_result",
          "data": {
            "text/plain": [
              "(12, 4)"
            ]
          },
          "metadata": {},
          "execution_count": 16
        }
      ]
    },
    {
      "cell_type": "markdown",
      "source": [
        "**(k-1)OneHot encoding or Dummy variable trap**\n",
        "- remove first column to handle multicollinearity"
      ],
      "metadata": {
        "id": "KqRja-JGHo3h"
      }
    },
    {
      "cell_type": "code",
      "source": [
        "df_dummies_K_1 = pd.get_dummies(df, columns=[\"Color\"], prefix=\"Color\",drop_first= True)\n",
        "print(\"One-hot encoding using Pandas get_dummies:\\n\", df_dummies_K_1, \"\\n\")"
      ],
      "metadata": {
        "colab": {
          "base_uri": "https://localhost:8080/"
        },
        "id": "JmhJFi0vH1Ya",
        "outputId": "fd5fe17e-0b3b-44ee-81dd-1ed76833cc09"
      },
      "execution_count": 17,
      "outputs": [
        {
          "output_type": "stream",
          "name": "stdout",
          "text": [
            "One-hot encoding using Pandas get_dummies:\n",
            "     Color_Green  Color_Red  Color_Yellow\n",
            "0         False       True         False\n",
            "1         False      False         False\n",
            "2          True      False         False\n",
            "3         False      False          True\n",
            "4         False       True         False\n",
            "5         False      False         False\n",
            "6          True      False         False\n",
            "7         False      False          True\n",
            "8         False       True         False\n",
            "9         False      False         False\n",
            "10         True      False         False\n",
            "11        False      False          True \n",
            "\n"
          ]
        }
      ]
    },
    {
      "cell_type": "code",
      "source": [
        "df_dummies_K_1.shape"
      ],
      "metadata": {
        "colab": {
          "base_uri": "https://localhost:8080/"
        },
        "id": "8Y7ToG_3J3_h",
        "outputId": "6578ae05-5b1a-4404-d051-c3d23be9d2dd"
      },
      "execution_count": 18,
      "outputs": [
        {
          "output_type": "execute_result",
          "data": {
            "text/plain": [
              "(12, 3)"
            ]
          },
          "metadata": {},
          "execution_count": 18
        }
      ]
    },
    {
      "cell_type": "markdown",
      "source": [
        "**OneHot encoding using Sklearn**"
      ],
      "metadata": {
        "id": "Oey61Yx_IO9b"
      }
    },
    {
      "cell_type": "code",
      "source": [
        "one_hot_encoding=OneHotEncoder()\n",
        "new_df=one_hot_encoding.fit_transform(df).toarray()"
      ],
      "metadata": {
        "id": "8eGHU-PsIVXc"
      },
      "execution_count": 19,
      "outputs": []
    },
    {
      "cell_type": "code",
      "source": [
        "new_df.shape"
      ],
      "metadata": {
        "colab": {
          "base_uri": "https://localhost:8080/"
        },
        "id": "i5UdvnDNKCRx",
        "outputId": "936fd453-bf0d-4909-e1e8-e6d3d2a1a7dc"
      },
      "execution_count": 20,
      "outputs": [
        {
          "output_type": "execute_result",
          "data": {
            "text/plain": [
              "(12, 4)"
            ]
          },
          "metadata": {},
          "execution_count": 20
        }
      ]
    },
    {
      "cell_type": "markdown",
      "source": [
        "**(K-1)OneHot encoding Using Sklearn**\n",
        "- remove first column to handle multicollinearity"
      ],
      "metadata": {
        "id": "A5wdV-IIIjdd"
      }
    },
    {
      "cell_type": "code",
      "source": [
        "one_hot_encoding=OneHotEncoder(drop='first')\n",
        "new_df_k_1=one_hot_encoding.fit_transform(df).toarray()"
      ],
      "metadata": {
        "id": "O0ydX3MfIrgk"
      },
      "execution_count": 21,
      "outputs": []
    },
    {
      "cell_type": "code",
      "source": [
        "new_df_k_1.shape"
      ],
      "metadata": {
        "colab": {
          "base_uri": "https://localhost:8080/"
        },
        "id": "QiijeGc9KJUy",
        "outputId": "8f3c83af-0336-4d3d-ffe5-596486f733b9"
      },
      "execution_count": 22,
      "outputs": [
        {
          "output_type": "execute_result",
          "data": {
            "text/plain": [
              "(12, 3)"
            ]
          },
          "metadata": {},
          "execution_count": 22
        }
      ]
    }
  ]
}