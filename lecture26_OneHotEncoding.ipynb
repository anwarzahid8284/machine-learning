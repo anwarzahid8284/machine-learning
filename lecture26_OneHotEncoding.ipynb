{
  "nbformat": 4,
  "nbformat_minor": 0,
  "metadata": {
    "colab": {
      "provenance": []
    },
    "kernelspec": {
      "name": "python3",
      "display_name": "Python 3"
    },
    "language_info": {
      "name": "python"
    }
  },
  "cells": [
    {
      "cell_type": "code",
      "execution_count": 1,
      "metadata": {
        "id": "bv9nr96pG4Rr"
      },
      "outputs": [],
      "source": [
        "import pandas as pd\n",
        "from sklearn.preprocessing import OneHotEncoder"
      ]
    },
    {
      "cell_type": "code",
      "source": [
        "colors = [\"Red\", \"Blue\", \"Green\", \"Yellow\"] * 3\n",
        "df = pd.DataFrame({\"Color\": colors})\n",
        "print(\"Original DataFrame:\\n\", df, \"\\n\")"
      ],
      "metadata": {
        "colab": {
          "base_uri": "https://localhost:8080/"
        },
        "id": "E7g3eUnWHKHB",
        "outputId": "d7fa2412-df7f-435a-f378-5886703f47d3"
      },
      "execution_count": 2,
      "outputs": [
        {
          "output_type": "stream",
          "name": "stdout",
          "text": [
            "Original DataFrame:\n",
            "      Color\n",
            "0      Red\n",
            "1     Blue\n",
            "2    Green\n",
            "3   Yellow\n",
            "4      Red\n",
            "5     Blue\n",
            "6    Green\n",
            "7   Yellow\n",
            "8      Red\n",
            "9     Blue\n",
            "10   Green\n",
            "11  Yellow \n",
            "\n"
          ]
        }
      ]
    },
    {
      "cell_type": "markdown",
      "source": [
        "**OneHot encoding using pandas library**"
      ],
      "metadata": {
        "id": "Bb7J5dstHabI"
      }
    },
    {
      "cell_type": "code",
      "source": [
        "df_dummies = pd.get_dummies(df, columns=[\"Color\"], prefix=\"Color\")\n",
        "print(\"One-hot encoding using Pandas get_dummies:\\n\", df_dummies, \"\\n\")"
      ],
      "metadata": {
        "colab": {
          "base_uri": "https://localhost:8080/"
        },
        "id": "zSQmrNL-HR2I",
        "outputId": "b4d17ddb-7122-43cc-9159-3e0e2430f85b"
      },
      "execution_count": 3,
      "outputs": [
        {
          "output_type": "stream",
          "name": "stdout",
          "text": [
            "One-hot encoding using Pandas get_dummies:\n",
            "     Color_Blue  Color_Green  Color_Red  Color_Yellow\n",
            "0        False        False       True         False\n",
            "1         True        False      False         False\n",
            "2        False         True      False         False\n",
            "3        False        False      False          True\n",
            "4        False        False       True         False\n",
            "5         True        False      False         False\n",
            "6        False         True      False         False\n",
            "7        False        False      False          True\n",
            "8        False        False       True         False\n",
            "9         True        False      False         False\n",
            "10       False         True      False         False\n",
            "11       False        False      False          True \n",
            "\n"
          ]
        }
      ]
    },
    {
      "cell_type": "markdown",
      "source": [
        "**(k-1)OneHot encoding or Dummy variable trap**\n",
        "- remove first column to handle multicollinearity"
      ],
      "metadata": {
        "id": "KqRja-JGHo3h"
      }
    },
    {
      "cell_type": "code",
      "source": [
        "df_dummies = pd.get_dummies(df, columns=[\"Color\"], prefix=\"Color\",drop_first= True)\n",
        "print(\"One-hot encoding using Pandas get_dummies:\\n\", df_dummies, \"\\n\")"
      ],
      "metadata": {
        "colab": {
          "base_uri": "https://localhost:8080/"
        },
        "id": "JmhJFi0vH1Ya",
        "outputId": "9c18ba4b-7482-44ec-f7f4-f00f8ea5149d"
      },
      "execution_count": 6,
      "outputs": [
        {
          "output_type": "stream",
          "name": "stdout",
          "text": [
            "One-hot encoding using Pandas get_dummies:\n",
            "     Color_Green  Color_Red  Color_Yellow\n",
            "0         False       True         False\n",
            "1         False      False         False\n",
            "2          True      False         False\n",
            "3         False      False          True\n",
            "4         False       True         False\n",
            "5         False      False         False\n",
            "6          True      False         False\n",
            "7         False      False          True\n",
            "8         False       True         False\n",
            "9         False      False         False\n",
            "10         True      False         False\n",
            "11        False      False          True \n",
            "\n"
          ]
        }
      ]
    },
    {
      "cell_type": "markdown",
      "source": [
        "**OneHot encoding using Sklearn**"
      ],
      "metadata": {
        "id": "Oey61Yx_IO9b"
      }
    },
    {
      "cell_type": "code",
      "source": [
        "one_hot_encoding=OneHotEncoder()\n",
        "one_hot_encoding.fit_transform(df).toarray()"
      ],
      "metadata": {
        "colab": {
          "base_uri": "https://localhost:8080/"
        },
        "id": "8eGHU-PsIVXc",
        "outputId": "e2344249-3b90-4a2c-a4ee-645f35499da3"
      },
      "execution_count": 7,
      "outputs": [
        {
          "output_type": "execute_result",
          "data": {
            "text/plain": [
              "array([[0., 0., 1., 0.],\n",
              "       [1., 0., 0., 0.],\n",
              "       [0., 1., 0., 0.],\n",
              "       [0., 0., 0., 1.],\n",
              "       [0., 0., 1., 0.],\n",
              "       [1., 0., 0., 0.],\n",
              "       [0., 1., 0., 0.],\n",
              "       [0., 0., 0., 1.],\n",
              "       [0., 0., 1., 0.],\n",
              "       [1., 0., 0., 0.],\n",
              "       [0., 1., 0., 0.],\n",
              "       [0., 0., 0., 1.]])"
            ]
          },
          "metadata": {},
          "execution_count": 7
        }
      ]
    },
    {
      "cell_type": "markdown",
      "source": [
        "**(K-1)OneHot encoding Using Sklearn**\n",
        "- remove first column to handle multicollinearity"
      ],
      "metadata": {
        "id": "A5wdV-IIIjdd"
      }
    },
    {
      "cell_type": "code",
      "source": [
        "one_hot_encoding=OneHotEncoder(drop='first')\n",
        "one_hot_encoding.fit_transform(df).toarray()"
      ],
      "metadata": {
        "colab": {
          "base_uri": "https://localhost:8080/"
        },
        "id": "O0ydX3MfIrgk",
        "outputId": "3c8f690a-4101-44b2-8086-6c4f3e5163a1"
      },
      "execution_count": 8,
      "outputs": [
        {
          "output_type": "execute_result",
          "data": {
            "text/plain": [
              "array([[0., 1., 0.],\n",
              "       [0., 0., 0.],\n",
              "       [1., 0., 0.],\n",
              "       [0., 0., 1.],\n",
              "       [0., 1., 0.],\n",
              "       [0., 0., 0.],\n",
              "       [1., 0., 0.],\n",
              "       [0., 0., 1.],\n",
              "       [0., 1., 0.],\n",
              "       [0., 0., 0.],\n",
              "       [1., 0., 0.],\n",
              "       [0., 0., 1.]])"
            ]
          },
          "metadata": {},
          "execution_count": 8
        }
      ]
    }
  ]
}