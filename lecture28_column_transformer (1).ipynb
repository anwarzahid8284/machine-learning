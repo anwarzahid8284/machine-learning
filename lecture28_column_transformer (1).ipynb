{
  "nbformat": 4,
  "nbformat_minor": 0,
  "metadata": {
    "colab": {
      "provenance": []
    },
    "kernelspec": {
      "name": "python3",
      "display_name": "Python 3"
    },
    "language_info": {
      "name": "python"
    }
  },
  "cells": [
    {
      "cell_type": "code",
      "execution_count": 55,
      "metadata": {
        "colab": {
          "base_uri": "https://localhost:8080/"
        },
        "id": "vRH_oqHh09zT",
        "outputId": "8bd9e2eb-a513-4391-9ece-c79786007b14"
      },
      "outputs": [
        {
          "output_type": "stream",
          "name": "stdout",
          "text": [
            "    gender  fever   cough         city\n",
            "0     Male  101.2    Mild     New York\n",
            "1   Female   98.4  Strong  Los Angeles\n",
            "2     Male  102.5  Strong     New York\n",
            "3   Female   97.9    Mild     New York\n",
            "4     Male  100.8  Strong  Los Angeles\n",
            "5   Female   99.1    Mild  Los Angeles\n",
            "6     Male   98.0    Mild     New York\n",
            "7   Female  103.3  Strong     New York\n",
            "8     Male   97.8  Strong     New York\n",
            "9   Female  101.5  Strong  Los Angeles\n",
            "10    Male   98.2    Mild  Los Angeles\n",
            "11  Female  100.0    Mild   Fort Worth\n"
          ]
        }
      ],
      "source": [
        "import pandas as pd\n",
        "from sklearn.preprocessing import OneHotEncoder\n",
        "from sklearn.preprocessing import OrdinalEncoder\n",
        "from sklearn.impute import SimpleImputer\n",
        "from sklearn.compose import ColumnTransformer\n",
        "\n",
        "# Define the dataset\n",
        "data = {\n",
        "    'gender': ['Male', 'Female', 'Male', 'Female', 'Male', 'Female',\n",
        "               'Male', 'Female', 'Male', 'Female', 'Male', 'Female'],\n",
        "        'fever': [101.2, 98.4, 102.5, 97.9, 100.8, 99.1,\n",
        "              98.0, 103.3, 97.8, 101.5, 98.2, 100.0],\n",
        "        'cough': ['Mild', 'Strong', 'Strong', 'Mild', 'Strong', 'Mild',\n",
        "              'Mild', 'Strong', 'Strong', 'Strong', 'Mild', 'Mild'],\n",
        "    'city': ['New York', 'Los Angeles', 'New York', 'New York', 'Los Angeles',\n",
        "             'Los Angeles', 'New York', 'New York', 'New York',\n",
        "             'Los Angeles', 'Los Angeles', 'Fort Worth'],\n",
        "    'has_covid': ['Yes', 'No', 'Yes', 'No', 'Yes', 'No',\n",
        "                  'No', 'Yes', 'No', 'Yes', 'No', 'No']\n",
        "}\n",
        "\n",
        "# Create DataFrame\n",
        "df = pd.DataFrame(data)\n",
        "df = df.drop('has_covid', axis=1)\n",
        "\n",
        "# Display the updated DataFrame\n",
        "print(df)\n"
      ]
    },
    {
      "cell_type": "code",
      "source": [
        "df['city'].value_counts()"
      ],
      "metadata": {
        "colab": {
          "base_uri": "https://localhost:8080/",
          "height": 209
        },
        "id": "sSw9AhFk7ekX",
        "outputId": "c240f1bb-4972-457f-c8f6-09c386ba7970"
      },
      "execution_count": 56,
      "outputs": [
        {
          "output_type": "execute_result",
          "data": {
            "text/plain": [
              "city\n",
              "New York       6\n",
              "Los Angeles    5\n",
              "Fort Worth     1\n",
              "Name: count, dtype: int64"
            ],
            "text/html": [
              "<div>\n",
              "<style scoped>\n",
              "    .dataframe tbody tr th:only-of-type {\n",
              "        vertical-align: middle;\n",
              "    }\n",
              "\n",
              "    .dataframe tbody tr th {\n",
              "        vertical-align: top;\n",
              "    }\n",
              "\n",
              "    .dataframe thead th {\n",
              "        text-align: right;\n",
              "    }\n",
              "</style>\n",
              "<table border=\"1\" class=\"dataframe\">\n",
              "  <thead>\n",
              "    <tr style=\"text-align: right;\">\n",
              "      <th></th>\n",
              "      <th>count</th>\n",
              "    </tr>\n",
              "    <tr>\n",
              "      <th>city</th>\n",
              "      <th></th>\n",
              "    </tr>\n",
              "  </thead>\n",
              "  <tbody>\n",
              "    <tr>\n",
              "      <th>New York</th>\n",
              "      <td>6</td>\n",
              "    </tr>\n",
              "    <tr>\n",
              "      <th>Los Angeles</th>\n",
              "      <td>5</td>\n",
              "    </tr>\n",
              "    <tr>\n",
              "      <th>Fort Worth</th>\n",
              "      <td>1</td>\n",
              "    </tr>\n",
              "  </tbody>\n",
              "</table>\n",
              "</div><br><label><b>dtype:</b> int64</label>"
            ]
          },
          "metadata": {},
          "execution_count": 56
        }
      ]
    },
    {
      "cell_type": "code",
      "source": [
        "transformer=ColumnTransformer(transformers=[\n",
        "    ('tnf1',SimpleImputer(),['fever']),\n",
        "     ('tnf2',OrdinalEncoder(categories=[['Mild','Strong']]),['cough']),\n",
        "      ('tnf3',OneHotEncoder(drop='first'),['gender','city'])\n",
        "      ], remainder='passthrough')"
      ],
      "metadata": {
        "id": "gvL31p8n1P_d"
      },
      "execution_count": 57,
      "outputs": []
    },
    {
      "cell_type": "code",
      "source": [
        "df=transformer.fit_transform(df)"
      ],
      "metadata": {
        "id": "Br2-Hu8s5Exc"
      },
      "execution_count": 60,
      "outputs": []
    },
    {
      "cell_type": "code",
      "source": [
        "df.shape"
      ],
      "metadata": {
        "colab": {
          "base_uri": "https://localhost:8080/"
        },
        "id": "MjiaspLN5VEs",
        "outputId": "340c5dfe-56c9-4196-9e32-6f643ee445d5"
      },
      "execution_count": 61,
      "outputs": [
        {
          "output_type": "execute_result",
          "data": {
            "text/plain": [
              "(12, 5)"
            ]
          },
          "metadata": {},
          "execution_count": 61
        }
      ]
    }
  ]
}